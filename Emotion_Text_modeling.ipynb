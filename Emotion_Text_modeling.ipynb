{
 "cells": [
  {
   "cell_type": "code",
   "execution_count": 1,
   "metadata": {},
   "outputs": [
    {
     "name": "stdout",
     "output_type": "stream",
     "text": [
      "['NanumGothicOTF']\n"
     ]
    }
   ],
   "source": [
    "import pandas as pd\n",
    "import numpy as np\n",
    "%matplotlib inline\n",
    "import matplotlib.pyplot as plt\n",
    "import re\n",
    "import urllib.request\n",
    "from konlpy.tag import Okt\n",
    "from tensorflow.keras.preprocessing.text import Tokenizer\n",
    "from tensorflow.keras.preprocessing.sequence import pad_sequences\n",
    "import warnings\n",
    "warnings.filterwarnings('ignore')\n",
    "from keras.utils import np_utils\n",
    "from sklearn.model_selection import train_test_split\n",
    "plt.rc('font', family='NanumGothicOTF') # For MacOS\n",
    "print(plt.rcParams['font.family'])"
   ]
  },
  {
   "cell_type": "markdown",
   "metadata": {},
   "source": [
    "# 감정 분류"
   ]
  },
  {
   "cell_type": "code",
   "execution_count": 2,
   "metadata": {},
   "outputs": [],
   "source": [
    "df = pd.read_csv(\"MM_data2.csv\")\n"
   ]
  },
  {
   "cell_type": "code",
   "execution_count": 3,
   "metadata": {
    "scrolled": false
   },
   "outputs": [
    {
     "data": {
      "text/plain": [
       "Index(['script', 'txt_emotion', 'txt_valence', 'txt_arousal', 'sound_emotion',\n",
       "       'sound_valence', 'sound_arousal', 'morpheme'],\n",
       "      dtype='object')"
      ]
     },
     "execution_count": 3,
     "metadata": {},
     "output_type": "execute_result"
    }
   ],
   "source": [
    "df.columns"
   ]
  },
  {
   "cell_type": "code",
   "execution_count": 4,
   "metadata": {},
   "outputs": [],
   "source": [
    "df = df[[\"script\", \"txt_emotion\"]]"
   ]
  },
  {
   "cell_type": "code",
   "execution_count": 5,
   "metadata": {
    "scrolled": false
   },
   "outputs": [
    {
     "data": {
      "text/plain": [
       "neutral     28381\n",
       "fear        11162\n",
       "happy        9833\n",
       "sad          8830\n",
       "dislike      6965\n",
       "surprise     5352\n",
       "angry        4126\n",
       "contempt     1892\n",
       "Name: txt_emotion, dtype: int64"
      ]
     },
     "execution_count": 5,
     "metadata": {},
     "output_type": "execute_result"
    }
   ],
   "source": [
    "df.txt_emotion.value_counts()"
   ]
  },
  {
   "cell_type": "code",
   "execution_count": 6,
   "metadata": {},
   "outputs": [],
   "source": [
    "# angry disgusting fearful happy sad surprising neutral"
   ]
  },
  {
   "cell_type": "code",
   "execution_count": 7,
   "metadata": {},
   "outputs": [],
   "source": [
    "df[\"txt_emotion\"][df[\"txt_emotion\"] == \"neutral\"] = 0\n",
    "\n",
    "df[\"txt_emotion\"][df[\"txt_emotion\"] == \"fear\"] = 1\n",
    "\n",
    "df[\"txt_emotion\"][df[\"txt_emotion\"] == \"surprise\"] = 2\n",
    "\n",
    "df[\"txt_emotion\"][df[\"txt_emotion\"] == \"contempt\"] = 3\n",
    "df[\"txt_emotion\"][df[\"txt_emotion\"] == \"dislike\"] = 3\n",
    "\n",
    "df[\"txt_emotion\"][df[\"txt_emotion\"] == \"happy\"] = 4\n",
    "\n",
    "df[\"txt_emotion\"][df[\"txt_emotion\"] == \"sad\"] = 5\n",
    "\n",
    "df[\"txt_emotion\"][df[\"txt_emotion\"] == \"angry\"] = 6"
   ]
  },
  {
   "cell_type": "code",
   "execution_count": 8,
   "metadata": {
    "scrolled": true
   },
   "outputs": [
    {
     "data": {
      "text/plain": [
       "0    28381\n",
       "1    11162\n",
       "4     9833\n",
       "3     8857\n",
       "5     8830\n",
       "2     5352\n",
       "6     4126\n",
       "Name: txt_emotion, dtype: int64"
      ]
     },
     "execution_count": 8,
     "metadata": {},
     "output_type": "execute_result"
    }
   ],
   "source": [
    "df.txt_emotion.value_counts()"
   ]
  },
  {
   "cell_type": "code",
   "execution_count": 9,
   "metadata": {},
   "outputs": [],
   "source": [
    "train_data, test_data = train_test_split(df, test_size = 0.35)"
   ]
  },
  {
   "cell_type": "code",
   "execution_count": 10,
   "metadata": {
    "scrolled": false
   },
   "outputs": [
    {
     "data": {
      "text/plain": [
       "<matplotlib.axes._subplots.AxesSubplot at 0x7f95b0009a60>"
      ]
     },
     "execution_count": 10,
     "metadata": {},
     "output_type": "execute_result"
    },
    {
     "data": {
      "image/png": "[encoded data removed]",
      "text/plain": [
       "<Figure size 432x288 with 1 Axes>"
      ]
     },
     "metadata": {
      "needs_background": "light"
     },
     "output_type": "display_data"
    }
   ],
   "source": [
    "train_data['txt_emotion'].value_counts().plot(kind = 'bar')"
   ]
  },
  {
   "cell_type": "code",
   "execution_count": 11,
   "metadata": {},
   "outputs": [
    {
     "name": "stdout",
     "output_type": "stream",
     "text": [
      "   txt_emotion  count\n",
      "0            0  18325\n",
      "1            1   7296\n",
      "2            2   3512\n",
      "3            3   5731\n",
      "4            4   6435\n",
      "5            5   5750\n",
      "6            6   2702\n"
     ]
    }
   ],
   "source": [
    "print(train_data.groupby('txt_emotion').size().reset_index(name = 'count'))"
   ]
  },
  {
   "cell_type": "code",
   "execution_count": 12,
   "metadata": {},
   "outputs": [
    {
     "data": {
      "text/plain": [
       "script         0\n",
       "txt_emotion    0\n",
       "dtype: int64"
      ]
     },
     "execution_count": 12,
     "metadata": {},
     "output_type": "execute_result"
    }
   ],
   "source": [
    "train_data.isnull().sum()"
   ]
  },
  {
   "cell_type": "code",
   "execution_count": 13,
   "metadata": {},
   "outputs": [
    {
     "data": {
      "text/html": [
       "<div>\n",
       "<style scoped>\n",
       "    .dataframe tbody tr th:only-of-type {\n",
       "        vertical-align: middle;\n",
       "    }\n",
       "\n",
       "    .dataframe tbody tr th {\n",
       "        vertical-align: top;\n",
       "    }\n",
       "\n",
       "    .dataframe thead th {\n",
       "        text-align: right;\n",
       "    }\n",
       "</style>\n",
       "<table border=\"1\" class=\"dataframe\">\n",
       "  <thead>\n",
       "    <tr style=\"text-align: right;\">\n",
       "      <th></th>\n",
       "      <th>script</th>\n",
       "      <th>txt_emotion</th>\n",
       "    </tr>\n",
       "  </thead>\n",
       "  <tbody>\n",
       "    <tr>\n",
       "      <th>39186</th>\n",
       "      <td>아니야 내가 잘 기억하면 되지</td>\n",
       "      <td>4</td>\n",
       "    </tr>\n",
       "    <tr>\n",
       "      <th>55431</th>\n",
       "      <td>응 우리 아저씨도 이번 주말에는 어디 안 간다네</td>\n",
       "      <td>0</td>\n",
       "    </tr>\n",
       "    <tr>\n",
       "      <th>14522</th>\n",
       "      <td>좀그렇다니 그게무슨말이야</td>\n",
       "      <td>1</td>\n",
       "    </tr>\n",
       "    <tr>\n",
       "      <th>2824</th>\n",
       "      <td>네 뭐 잘 지냈습니다</td>\n",
       "      <td>0</td>\n",
       "    </tr>\n",
       "    <tr>\n",
       "      <th>68626</th>\n",
       "      <td>엄마 주말에 오잖아 삼일 지나면 오지</td>\n",
       "      <td>0</td>\n",
       "    </tr>\n",
       "  </tbody>\n",
       "</table>\n",
       "</div>"
      ],
      "text/plain": [
       "                           script txt_emotion\n",
       "39186            아니야 내가 잘 기억하면 되지           4\n",
       "55431  응 우리 아저씨도 이번 주말에는 어디 안 간다네           0\n",
       "14522               좀그렇다니 그게무슨말이야           1\n",
       "2824                  네 뭐 잘 지냈습니다           0\n",
       "68626        엄마 주말에 오잖아 삼일 지나면 오지           0"
      ]
     },
     "execution_count": 13,
     "metadata": {},
     "output_type": "execute_result"
    }
   ],
   "source": [
    "# 한글과 공백을 제외하고 모두 제거\n",
    "train_data['script'] = train_data['script'].str.replace(\"[^ㄱ-ㅎㅏ-ㅣ가-힣 ]\",\"\")\n",
    "train_data.head()"
   ]
  },
  {
   "cell_type": "code",
   "execution_count": 14,
   "metadata": {},
   "outputs": [
    {
     "name": "stdout",
     "output_type": "stream",
     "text": [
      "script         2\n",
      "txt_emotion    0\n",
      "dtype: int64\n"
     ]
    }
   ],
   "source": [
    "train_data['script'].replace('', np.nan, inplace=True)\n",
    "print(train_data.isnull().sum())"
   ]
  },
  {
   "cell_type": "code",
   "execution_count": 15,
   "metadata": {},
   "outputs": [
    {
     "name": "stdout",
     "output_type": "stream",
     "text": [
      "49749\n"
     ]
    }
   ],
   "source": [
    "# 결측치 제거\n",
    "train_data.loc[train_data.script.isnull()]\n",
    "train_data = train_data.dropna(how = 'any')\n",
    "print(len(train_data))"
   ]
  },
  {
   "cell_type": "code",
   "execution_count": 16,
   "metadata": {},
   "outputs": [
    {
     "name": "stdout",
     "output_type": "stream",
     "text": [
      "전처리 후 테스트용 샘플의 개수 : 26788\n"
     ]
    }
   ],
   "source": [
    "# 테스트 데이터 전처리\n",
    "test_data.drop_duplicates(subset = ['script'], inplace=True) # script 열에서 중복인 내용이 있다면 중복 제거\n",
    "test_data['script'] = test_data['script'].str.replace(\"[^ㄱ-ㅎㅏ-ㅣ가-힣 ]\",\"\") # 정규 표현식 수행\n",
    "test_data['script'].replace('', np.nan, inplace=True) # 공백은 Null 값으로 변경\n",
    "test_data = test_data.dropna(how='any') # Null 값 제거\n",
    "print('전처리 후 테스트용 샘플의 개수 :',len(test_data))"
   ]
  },
  {
   "cell_type": "code",
   "execution_count": 17,
   "metadata": {},
   "outputs": [],
   "source": [
    "stopwords = ['의','가','이','은','들','는','좀','잘','걍','과','도','를','으로','자','에','와','한','하다']"
   ]
  },
  {
   "cell_type": "code",
   "execution_count": 18,
   "metadata": {},
   "outputs": [],
   "source": [
    "okt = Okt()"
   ]
  },
  {
   "cell_type": "code",
   "execution_count": 19,
   "metadata": {},
   "outputs": [],
   "source": [
    "X_train = []\n",
    "for script in train_data['script']:\n",
    "    temp_X = []\n",
    "    temp_X = okt.morphs(script, stem=True) # 토큰화\n",
    "    temp_X = [word for word in temp_X if not word in stopwords] # 불용어 제거\n",
    "    X_train.append(temp_X)"
   ]
  },
  {
   "cell_type": "code",
   "execution_count": 20,
   "metadata": {},
   "outputs": [
    {
     "name": "stdout",
     "output_type": "stream",
     "text": [
      "[['아니다', '내', '자다', '기억', '되다'], ['응', '우리', '아저씨', '이번', '주말', '에는', '어디', '안', '간다', '네'], ['그렇다', '그게', '무슨', '말', '이야']]\n",
      "49749\n"
     ]
    }
   ],
   "source": [
    "print(X_train[:3])\n",
    "print(len(X_train))"
   ]
  },
  {
   "cell_type": "code",
   "execution_count": 21,
   "metadata": {},
   "outputs": [],
   "source": [
    "X_test = []\n",
    "for script in test_data['script']:\n",
    "    temp_X = []\n",
    "    temp_X = okt.morphs(script, stem=True) # 토큰화\n",
    "    temp_X = [word for word in temp_X if not word in stopwords] # 불용어 제거\n",
    "    X_test.append(temp_X)"
   ]
  },
  {
   "cell_type": "code",
   "execution_count": 22,
   "metadata": {},
   "outputs": [
    {
     "name": "stdout",
     "output_type": "stream",
     "text": [
      "[['나', '인터넷', '들어가다', '보고', '싶다', '거', '있다'], ['번', '물어보다'], ['뭐', '야', '너', '무슨', '연애', '전문가', '야', '뭐', '야']]\n",
      "26788\n"
     ]
    }
   ],
   "source": [
    "print(X_test[:3])\n",
    "print(len(X_test))"
   ]
  },
  {
   "cell_type": "code",
   "execution_count": 23,
   "metadata": {},
   "outputs": [],
   "source": [
    "tokenizer = Tokenizer()\n",
    "tokenizer.fit_on_texts(X_train)"
   ]
  },
  {
   "cell_type": "code",
   "execution_count": 24,
   "metadata": {},
   "outputs": [
    {
     "name": "stdout",
     "output_type": "stream",
     "text": [
      "단어 집합(vocabulary)의 크기 : 14601\n",
      "등장 빈도가 2번 이하인 희귀 단어의 수: 7683\n",
      "단어 집합에서 희귀 단어의 비율: 52.61968358331621\n",
      "전체 등장 빈도에서 희귀 단어 등장 빈도 비율: 2.4531485790322702\n"
     ]
    }
   ],
   "source": [
    "threshold = 3\n",
    "total_cnt = len(tokenizer.word_index) # 단어의 수\n",
    "rare_cnt = 0 # 등장 빈도수가 threshold보다 작은 단어의 개수를 카운트\n",
    "total_freq = 0 # 훈련 데이터의 전체 단어 빈도수 총 합\n",
    "rare_freq = 0 # 등장 빈도수가 threshold보다 작은 단어의 등장 빈도수의 총 합\n",
    "\n",
    "# 단어와 빈도수의 쌍(pair)을 key와 value로 받는다.\n",
    "for key, value in tokenizer.word_counts.items():\n",
    "    total_freq = total_freq + value\n",
    "\n",
    "    # 단어의 등장 빈도수가 threshold보다 작으면\n",
    "    if(value < threshold):\n",
    "        rare_cnt = rare_cnt + 1\n",
    "        rare_freq = rare_freq + value\n",
    "\n",
    "print('단어 집합(vocabulary)의 크기 :',total_cnt)\n",
    "print('등장 빈도가 %s번 이하인 희귀 단어의 수: %s'%(threshold - 1, rare_cnt))\n",
    "print(\"단어 집합에서 희귀 단어의 비율:\", (rare_cnt / total_cnt)*100)\n",
    "print(\"전체 등장 빈도에서 희귀 단어 등장 빈도 비율:\", (rare_freq / total_freq)*100)"
   ]
  },
  {
   "cell_type": "code",
   "execution_count": 25,
   "metadata": {
    "scrolled": true
   },
   "outputs": [
    {
     "name": "stdout",
     "output_type": "stream",
     "text": [
      "단어 집합의 크기 : 6920\n"
     ]
    }
   ],
   "source": [
    "vocab_size = total_cnt - rare_cnt + 2\n",
    "print('단어 집합의 크기 :',vocab_size)"
   ]
  },
  {
   "cell_type": "code",
   "execution_count": 26,
   "metadata": {},
   "outputs": [],
   "source": [
    "tokenizer = Tokenizer(vocab_size, oov_token = 'OOV') \n",
    "tokenizer.fit_on_texts(X_train)\n",
    "X_train = tokenizer.texts_to_sequences(X_train)\n",
    "X_test = tokenizer.texts_to_sequences(X_test)"
   ]
  },
  {
   "cell_type": "code",
   "execution_count": 27,
   "metadata": {},
   "outputs": [
    {
     "data": {
      "text/plain": [
       "49749"
      ]
     },
     "execution_count": 27,
     "metadata": {},
     "output_type": "execute_result"
    }
   ],
   "source": [
    "len(X_train)"
   ]
  },
  {
   "cell_type": "code",
   "execution_count": 28,
   "metadata": {},
   "outputs": [
    {
     "data": {
      "text/plain": [
       "26788"
      ]
     },
     "execution_count": 28,
     "metadata": {},
     "output_type": "execute_result"
    }
   ],
   "source": [
    "len(X_test)"
   ]
  },
  {
   "cell_type": "code",
   "execution_count": 29,
   "metadata": {},
   "outputs": [],
   "source": [
    "y_train = np.array(train_data['txt_emotion'])\n",
    "y_test = np.array(test_data['txt_emotion'])"
   ]
  },
  {
   "cell_type": "code",
   "execution_count": 30,
   "metadata": {
    "scrolled": true
   },
   "outputs": [
    {
     "name": "stdout",
     "output_type": "stream",
     "text": [
      "49728\n",
      "49728\n"
     ]
    }
   ],
   "source": [
    "# 빈 샘플 제거\n",
    "drop_train = [index for index, script in enumerate(X_train) if len(script) < 1]\n",
    "X_train = np.delete(X_train, drop_train, axis=0)\n",
    "y_train = np.delete(y_train, drop_train, axis=0)\n",
    "print(len(X_train))\n",
    "print(len(y_train))"
   ]
  },
  {
   "cell_type": "code",
   "execution_count": 31,
   "metadata": {
    "scrolled": true
   },
   "outputs": [
    {
     "data": {
      "text/plain": [
       "array([4, 0, 1, ..., 3, 0, 4], dtype=object)"
      ]
     },
     "execution_count": 31,
     "metadata": {},
     "output_type": "execute_result"
    }
   ],
   "source": [
    "y_train"
   ]
  },
  {
   "cell_type": "code",
   "execution_count": 32,
   "metadata": {},
   "outputs": [
    {
     "name": "stdout",
     "output_type": "stream",
     "text": [
      "리뷰의 최대 길이 : 71\n",
      "리뷰의 평균 길이 : 8.115407818532818\n"
     ]
    },
    {
     "data": {
      "image/png": "[encoded data removed]",
      "text/plain": [
       "<Figure size 432x288 with 1 Axes>"
      ]
     },
     "metadata": {
      "needs_background": "light"
     },
     "output_type": "display_data"
    }
   ],
   "source": [
    "# 패딩\n",
    "print('리뷰의 최대 길이 :',max(len(l) for l in X_train))\n",
    "print('리뷰의 평균 길이 :',sum(map(len, X_train))/len(X_train))\n",
    "plt.hist([len(s) for s in X_train], bins=50)\n",
    "plt.xlabel('length of samples')\n",
    "plt.ylabel('number of samples')\n",
    "plt.show()"
   ]
  },
  {
   "cell_type": "code",
   "execution_count": 33,
   "metadata": {},
   "outputs": [],
   "source": [
    "def below_threshold_len(max_len, nested_list):\n",
    "    cnt = 0\n",
    "    for s in nested_list:\n",
    "        if(len(s) <= max_len):\n",
    "            cnt = cnt + 1\n",
    "    print('전체 샘플 중 길이가 %s 이하인 샘플의 비율: %s'%(max_len, (cnt / len(nested_list))*100))"
   ]
  },
  {
   "cell_type": "code",
   "execution_count": 34,
   "metadata": {},
   "outputs": [
    {
     "name": "stdout",
     "output_type": "stream",
     "text": [
      "전체 샘플 중 길이가 30 이하인 샘플의 비율: 99.48519948519949\n"
     ]
    }
   ],
   "source": [
    "max_len = 30\n",
    "below_threshold_len(max_len, X_train)"
   ]
  },
  {
   "cell_type": "code",
   "execution_count": 35,
   "metadata": {},
   "outputs": [],
   "source": [
    "# 패딩 길이를 30으로 맞춤\n",
    "X_train = pad_sequences(X_train, maxlen = max_len)\n",
    "X_test = pad_sequences(X_test, maxlen = max_len)"
   ]
  },
  {
   "cell_type": "code",
   "execution_count": 36,
   "metadata": {
    "scrolled": true
   },
   "outputs": [
    {
     "data": {
      "text/plain": [
       "array([[   0,    0,    0, ...,   30,  282,   17],\n",
       "       [   0,    0,    0, ...,    5,  630,   19],\n",
       "       [   0,    0,    0, ...,   52,   15,   53],\n",
       "       ...,\n",
       "       [   0,    0,    0, ...,   12, 1423,  105],\n",
       "       [   0,    0,    0, ..., 4197,  114,  162],\n",
       "       [   0,    0,    0, ...,   33,  183,   70]], dtype=int32)"
      ]
     },
     "execution_count": 36,
     "metadata": {},
     "output_type": "execute_result"
    }
   ],
   "source": [
    "X_train"
   ]
  },
  {
   "cell_type": "code",
   "execution_count": 37,
   "metadata": {},
   "outputs": [],
   "source": [
    "from tensorflow.keras.datasets import reuters\n",
    "from tensorflow.keras.models import Sequential\n",
    "from tensorflow.keras.layers import Dense, LSTM, Embedding\n",
    "from tensorflow.keras.preprocessing.sequence import pad_sequences\n",
    "from tensorflow.keras.utils import to_categorical\n",
    "from tensorflow.keras.callbacks import EarlyStopping, ModelCheckpoint\n",
    "from tensorflow.keras.models import load_model"
   ]
  },
  {
   "cell_type": "code",
   "execution_count": 38,
   "metadata": {},
   "outputs": [],
   "source": [
    "y_train = to_categorical(y_train) # 훈련용 레이블의 원-핫 인코딩\n",
    "y_test = to_categorical(y_test) # 테스트용 레이블의 원-핫 인코딩"
   ]
  },
  {
   "cell_type": "code",
   "execution_count": 39,
   "metadata": {
    "scrolled": true
   },
   "outputs": [
    {
     "data": {
      "text/plain": [
       "49728"
      ]
     },
     "execution_count": 39,
     "metadata": {},
     "output_type": "execute_result"
    }
   ],
   "source": [
    "len(y_train)"
   ]
  },
  {
   "cell_type": "code",
   "execution_count": 40,
   "metadata": {},
   "outputs": [
    {
     "data": {
      "text/plain": [
       "49728"
      ]
     },
     "execution_count": 40,
     "metadata": {},
     "output_type": "execute_result"
    }
   ],
   "source": [
    "len(X_train)"
   ]
  },
  {
   "cell_type": "code",
   "execution_count": 41,
   "metadata": {},
   "outputs": [
    {
     "data": {
      "text/plain": [
       "26788"
      ]
     },
     "execution_count": 41,
     "metadata": {},
     "output_type": "execute_result"
    }
   ],
   "source": [
    "len(X_test)"
   ]
  },
  {
   "cell_type": "code",
   "execution_count": 42,
   "metadata": {},
   "outputs": [
    {
     "data": {
      "text/plain": [
       "26788"
      ]
     },
     "execution_count": 42,
     "metadata": {},
     "output_type": "execute_result"
    }
   ],
   "source": [
    "len(y_test)"
   ]
  },
  {
   "cell_type": "markdown",
   "metadata": {},
   "source": [
    "# LSTM"
   ]
  },
  {
   "cell_type": "code",
   "execution_count": 43,
   "metadata": {},
   "outputs": [],
   "source": [
    "model = Sequential()\n",
    "model.add(Embedding(vocab_size, 100))\n",
    "model.add(LSTM(128))\n",
    "model.add(Dense(7, activation='softmax'))"
   ]
  },
  {
   "cell_type": "markdown",
   "metadata": {},
   "source": [
    "# CNN"
   ]
  },
  {
   "cell_type": "code",
   "execution_count": 44,
   "metadata": {},
   "outputs": [],
   "source": [
    "# from keras.datasets import reuters\n",
    "# from keras.utils import np_utils\n",
    "# from keras.preprocessing import sequence\n",
    "# from keras.models import Sequential\n",
    "# from keras.layers import Dense, Embedding, LSTM\n",
    "# from keras.layers import Flatten, Dropout\n",
    "# from keras.layers import Conv1D, GlobalMaxPooling1D\n",
    "\n",
    "# max_features = 15000\n",
    "# text_max_words = 120\n",
    "\n",
    "# model = Sequential()\n",
    "# model.add(Embedding(vocab_size, 128, input_length=text_max_words))\n",
    "# model.add(Dropout(0.2))\n",
    "# model.add(Conv1D(256,\n",
    "#                  3,\n",
    "#                  padding='valid',\n",
    "#                  activation='relu',\n",
    "#                  strides=1))\n",
    "# model.add(GlobalMaxPooling1D())\n",
    "# model.add(Dense(128, activation='relu'))\n",
    "# model.add(Dropout(0.2))\n",
    "# model.add(Dense(5, activation='softmax'))"
   ]
  },
  {
   "cell_type": "markdown",
   "metadata": {},
   "source": [
    "# CNN - LSTM"
   ]
  },
  {
   "cell_type": "code",
   "execution_count": 45,
   "metadata": {},
   "outputs": [],
   "source": [
    "# from keras.datasets import reuters\n",
    "# from keras.utils import np_utils\n",
    "# from keras.preprocessing import sequence\n",
    "# from keras.models import Sequential\n",
    "# from keras.layers import Dense, Embedding, LSTM\n",
    "# from keras.layers import Flatten, Dropout\n",
    "# from keras.layers import Conv1D, MaxPooling1D\n",
    "\n",
    "# model = Sequential()\n",
    "# model.add(Embedding(vocab_size, 128, input_length=text_max_words))\n",
    "# model.add(Dropout(0.2))\n",
    "# model.add(Conv1D(256,\n",
    "#                  3,\n",
    "#                  padding='valid',\n",
    "#                  activation='relu',\n",
    "#                  strides=1))\n",
    "# model.add(MaxPooling1D(pool_size=4))\n",
    "# model.add(LSTM(128))\n",
    "# model.add(Dense(5, activation='softmax'))"
   ]
  },
  {
   "cell_type": "code",
   "execution_count": 46,
   "metadata": {},
   "outputs": [],
   "source": [
    "es = EarlyStopping(monitor='val_loss', mode='min', verbose=1, patience=4)\n",
    "mc = ModelCheckpoint('best_model.h5', monitor='val_acc', mode='max', verbose=1, save_best_only=True)"
   ]
  },
  {
   "cell_type": "code",
   "execution_count": 47,
   "metadata": {},
   "outputs": [],
   "source": [
    "model.compile(loss='categorical_crossentropy', optimizer='adam', metrics=['acc'])"
   ]
  },
  {
   "cell_type": "code",
   "execution_count": 48,
   "metadata": {
    "scrolled": true
   },
   "outputs": [
    {
     "name": "stdout",
     "output_type": "stream",
     "text": [
      "Epoch 1/30\n",
      "777/777 [==============================] - ETA: 0s - loss: 1.5537 - acc: 0.4326\n",
      "Epoch 00001: val_acc improved from -inf to 0.46812, saving model to best_model.h5\n",
      "777/777 [==============================] - 27s 35ms/step - loss: 1.5537 - acc: 0.4326 - val_loss: 1.4521 - val_acc: 0.4681\n",
      "Epoch 2/30\n",
      "776/777 [============================>.] - ETA: 0s - loss: 1.3471 - acc: 0.5077\n",
      "Epoch 00002: val_acc improved from 0.46812 to 0.47514, saving model to best_model.h5\n",
      "777/777 [==============================] - 29s 37ms/step - loss: 1.3471 - acc: 0.5077 - val_loss: 1.4393 - val_acc: 0.4751\n",
      "Epoch 3/30\n",
      "777/777 [==============================] - ETA: 0s - loss: 1.2505 - acc: 0.5428\n",
      "Epoch 00003: val_acc did not improve from 0.47514\n",
      "777/777 [==============================] - 23s 30ms/step - loss: 1.2505 - acc: 0.5428 - val_loss: 1.4540 - val_acc: 0.4702\n",
      "Epoch 4/30\n",
      "777/777 [==============================] - ETA: 0s - loss: 1.1802 - acc: 0.5693\n",
      "Epoch 00004: val_acc did not improve from 0.47514\n",
      "777/777 [==============================] - 25s 32ms/step - loss: 1.1802 - acc: 0.5693 - val_loss: 1.4848 - val_acc: 0.4584\n",
      "Epoch 5/30\n",
      "777/777 [==============================] - ETA: 0s - loss: 1.1163 - acc: 0.5944\n",
      "Epoch 00005: val_acc did not improve from 0.47514\n",
      "777/777 [==============================] - 24s 31ms/step - loss: 1.1163 - acc: 0.5944 - val_loss: 1.5495 - val_acc: 0.4589\n",
      "Epoch 6/30\n",
      "777/777 [==============================] - ETA: 0s - loss: 1.0491 - acc: 0.6198\n",
      "Epoch 00006: val_acc did not improve from 0.47514\n",
      "777/777 [==============================] - 25s 33ms/step - loss: 1.0491 - acc: 0.6198 - val_loss: 1.6263 - val_acc: 0.4521\n",
      "Epoch 00006: early stopping\n"
     ]
    }
   ],
   "source": [
    "history = model.fit(X_train, y_train, batch_size=64, epochs=30, callbacks=[es, mc], validation_data=(X_test, y_test))"
   ]
  },
  {
   "cell_type": "code",
   "execution_count": 49,
   "metadata": {},
   "outputs": [],
   "source": [
    "model.save(\"Multimodal_affect_model.h5\")"
   ]
  },
  {
   "cell_type": "code",
   "execution_count": 50,
   "metadata": {},
   "outputs": [
    {
     "name": "stdout",
     "output_type": "stream",
     "text": [
      "838/838 [==============================] - 5s 6ms/step - loss: 1.6263 - acc: 0.4521\n",
      "\n",
      " 테스트 정확도: 0.4521\n"
     ]
    }
   ],
   "source": [
    "loaded_model = load_model('best_model.h5')\n",
    "print(\"\\n 테스트 정확도: %.4f\" % (loaded_model.evaluate(X_test, y_test)[1]))"
   ]
  },
  {
   "cell_type": "code",
   "execution_count": 55,
   "metadata": {},
   "outputs": [
    {
     "data": {
      "image/png": "[encoded data removed]",
      "text/plain": [
       "<Figure size 432x288 with 1 Axes>"
      ]
     },
     "metadata": {
      "needs_background": "light"
     },
     "output_type": "display_data"
    }
   ],
   "source": [
    "epochs = range(1, len(history.history['acc']) + 1)\n",
    "plt.plot(epochs, history.history['loss'])\n",
    "plt.plot(epochs, history.history['val_loss'])\n",
    "plt.title('model loss')\n",
    "plt.ylabel('loss')\n",
    "plt.xlabel('epoch')\n",
    "plt.legend(['train', 'test'], loc='upper left')\n",
    "plt.show()"
   ]
  },
  {
   "cell_type": "code",
   "execution_count": 56,
   "metadata": {},
   "outputs": [],
   "source": [
    "def sentiment_predict(new_script):\n",
    "    new_script = okt.morphs(new_script, stem=True) # 토큰화\n",
    "    new_script = [word for word in new_script if not word in stopwords] # 불용어 제거\n",
    "    encoded = tokenizer.texts_to_sequences([new_script]) # 정수 인코딩\n",
    "    pad_new = pad_sequences(encoded, maxlen = max_len) # 패딩\n",
    "    score = np.array(loaded_model.predict(pad_new)) # 예측\n",
    "    result = \"\"\n",
    "    if score.argmax() == 0:\n",
    "        result = \"중립\"\n",
    "    elif score.argmax() == 1:\n",
    "        result = \"공포\"\n",
    "    elif score.argmax() == 2:\n",
    "        result = \"놀람\"\n",
    "    elif score.argmax() == 3:\n",
    "        result = \"혐오\"\n",
    "    elif score.argmax() == 4:\n",
    "        result = \"행복\"\n",
    "    elif score.argmax() == 5:\n",
    "        result = \"슬픔\"\n",
    "    elif score.argmax() == 6:\n",
    "        result = \"분노\"\n",
    "    return result"
   ]
  },
  {
   "cell_type": "code",
   "execution_count": 1,
   "metadata": {
    "scrolled": true
   },
   "outputs": [],
   "source": [
    "# def sentiment_predict(new_script):\n",
    "#     new_script = okt.morphs(new_script, stem=True) # 토큰화\n",
    "#     new_script = [word for word in new_script if not word in stopwords] # 불용어 제거\n",
    "#     encoded = tokenizer.texts_to_sequences([new_script]) # 정수 인코딩\n",
    "#     pad_new = pad_sequences(encoded, maxlen = max_len) # 패딩\n",
    "#     score = np.array(loaded_model.predict(pad_new)) # 예측\n",
    "#     result = \"\"\n",
    "#     if score.argmax() == 0:\n",
    "#         result = \"중립\"\n",
    "#     elif score.argmax() == 1:\n",
    "#         result = \"공포\"\n",
    "#     elif score.argmax() == 2:\n",
    "#         result = \"행복\"\n",
    "#     elif score.argmax() == 3:\n",
    "#         result = \"슬픔\"\n",
    "#     elif score.argmax() == 4:\n",
    "#         result = \"반감\"\n",
    "#     elif score.argmax() == 5:\n",
    "#         result = \"놀람\"\n",
    "#     elif score.argmax() == 6:\n",
    "#         result = \"분노\"\n",
    "#     elif score.argmax() == 7:\n",
    "#         result = \"경멸\"\n",
    "#     return result"
   ]
  },
  {
   "cell_type": "code",
   "execution_count": 58,
   "metadata": {
    "scrolled": true
   },
   "outputs": [
    {
     "data": {
      "text/plain": [
       "'슬픔'"
      ]
     },
     "execution_count": 58,
     "metadata": {},
     "output_type": "execute_result"
    }
   ],
   "source": [
    "sentiment_predict('오늘 남자친구랑 헤어졌어 죽고싶어')"
   ]
  },
  {
   "cell_type": "code",
   "execution_count": 75,
   "metadata": {},
   "outputs": [
    {
     "data": {
      "text/plain": [
       "'행복'"
      ]
     },
     "execution_count": 75,
     "metadata": {},
     "output_type": "execute_result"
    }
   ],
   "source": [
    "sentiment_predict('지금 기분이 너무 좋아')"
   ]
  },
  {
   "cell_type": "code",
   "execution_count": 77,
   "metadata": {},
   "outputs": [
    {
     "data": {
      "text/plain": [
       "'행복'"
      ]
     },
     "execution_count": 77,
     "metadata": {},
     "output_type": "execute_result"
    }
   ],
   "source": [
    "sentiment_predict('완전 행복해')"
   ]
  },
  {
   "cell_type": "code",
   "execution_count": 87,
   "metadata": {},
   "outputs": [
    {
     "data": {
      "text/plain": [
       "'분노'"
      ]
     },
     "execution_count": 87,
     "metadata": {},
     "output_type": "execute_result"
    }
   ],
   "source": [
    "sentiment_predict('넌 딱 45짜리야')"
   ]
  },
  {
   "cell_type": "code",
   "execution_count": null,
   "metadata": {},
   "outputs": [],
   "source": []
  },
  {
   "cell_type": "markdown",
   "metadata": {},
   "source": [
    "# 오디오 불러오기 & 처리"
   ]
  },
  {
   "cell_type": "code",
   "execution_count": 63,
   "metadata": {},
   "outputs": [
    {
     "data": {
      "text/plain": [
       "pydub.audio_segment.AudioSegment"
      ]
     },
     "execution_count": 63,
     "metadata": {},
     "output_type": "execute_result"
    }
   ],
   "source": [
    "from pydub import AudioSegment\n",
    "\n",
    "test_file = AudioSegment.from_mp3(\"anger.mp3\")\n",
    "type(test_file)"
   ]
  },
  {
   "cell_type": "code",
   "execution_count": 64,
   "metadata": {},
   "outputs": [
    {
     "data": {
      "text/plain": [
       "<_io.BufferedRandom name='test_file.wav'>"
      ]
     },
     "execution_count": 64,
     "metadata": {},
     "output_type": "execute_result"
    }
   ],
   "source": [
    "test_file.export(out_f=\"test_file.wav\", format=\"wav\")"
   ]
  },
  {
   "cell_type": "code",
   "execution_count": 65,
   "metadata": {},
   "outputs": [],
   "source": [
    "import speech_recognition as sr\n",
    "\n",
    "recognizer = sr.Recognizer()\n",
    "recognizer.energy_threshold = 300"
   ]
  },
  {
   "cell_type": "code",
   "execution_count": 66,
   "metadata": {},
   "outputs": [
    {
     "data": {
      "text/plain": [
       "'윤다 분노조절장애란 범죄가 끊이지 않고 있습니다 별것 아닌 일에도 극단적인 분노를 나타내고 결국 폭행과 범죄로 이어지는 이런 일이 왜 계속 놀고 있는 것인지 우종은 기자가 취재했습니다 접촉사고에 항의하는 자동차 운전자에게 느닷없이 동기를 덥지는 자전거 운전자 별 것 아닌 일에도 불같이 분노를 쏟아낸이 남성을 경찰이 잡고보니 분노조절 질환을 앓고 있었던 것으로 드러났습니다 경찰에 구속된 41살 서모씨는 지난 10년 동안 약물복용에 왔던 것으로 전해졌습니다 아버지를 상습적으로 때려 부러뜨리고 아령까지 동원의 폭행한 혐의로 구속된 21살 방문 시도 분노조절장애 환자였습니다 이처럼 스스로 충동을 제거하지 못하는 분노조절장애로 병원을 찾는 이들이 해마다 늘고 있습니다 2010년부터 지난해까지 충동장애로 병원을 찾은 일은 1600여명이 들었습니다 광주지역은 같은 기간 191명에서 324명으로 약 70% 나 증가했습니다 이른바 무시당했다는데 욱해서 벌어지는 이같은 범죄 와 관련해 전문가들인 성취지향적인 우리 사회 분위기가 개인들을 좌절감에 빠트린 것이 한몫한 것으로 보고 있습니다 약물치료 함께 걷던 충동조절이라고 하는 것이 어느 정도 조절되고 관리가 된 상태라고 하면 심리 치료를 통해서 어떻게 내 감정을 인식하고 또 안전한 방식으로 표현할 수 있는지에 대해서 훈련하시는 것도 필요할 것 같고요 언제 어디서 느닷없이 공격해 들어올지 모르는 분노조절장애 범죄가 불안한들을 더 힘들게 하고 있습니다 MBC 뉴스 구조물입니다'"
      ]
     },
     "execution_count": 66,
     "metadata": {},
     "output_type": "execute_result"
    }
   ],
   "source": [
    "corona_audio = sr.AudioFile(\"test_file.wav\")\n",
    "\n",
    "with corona_audio as source:\n",
    "    corona = recognizer.record(source)\n",
    "\n",
    "text = recognizer.recognize_google(audio_data=corona, language=\"ko-KR\")\n",
    "text"
   ]
  },
  {
   "cell_type": "code",
   "execution_count": 68,
   "metadata": {},
   "outputs": [
    {
     "data": {
      "text/plain": [
       "'행복'"
      ]
     },
     "execution_count": 68,
     "metadata": {},
     "output_type": "execute_result"
    }
   ],
   "source": [
    "sentiment_predict(text)"
   ]
  },
  {
   "cell_type": "code",
   "execution_count": null,
   "metadata": {},
   "outputs": [],
   "source": []
  }
 ],
 "metadata": {
  "kernelspec": {
   "display_name": "Python 3",
   "language": "python",
   "name": "python3"
  },
  "language_info": {
   "codemirror_mode": {
    "name": "ipython",
    "version": 3
   },
   "file_extension": ".py",
   "mimetype": "text/x-python",
   "name": "python",
   "nbconvert_exporter": "python",
   "pygments_lexer": "ipython3",
   "version": "3.8.3"
  }
 },
 "nbformat": 4,
 "nbformat_minor": 4
}
