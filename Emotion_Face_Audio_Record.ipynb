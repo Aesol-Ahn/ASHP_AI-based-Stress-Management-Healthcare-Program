{
 "cells": [
  {
   "cell_type": "code",
   "execution_count": 4,
   "metadata": {},
   "outputs": [
    {
     "name": "stderr",
     "output_type": "stream",
     "text": [
      "\n",
      "\n"
     ]
    }
   ],
   "source": [
    "!if not exist \"./files\" mkdir files\n",
    "# Download Face detection XML \n",
    "!curl -L -o ./files/haarcascade_frontalface_default.xml https://raw.githubusercontent.com/opencv/opencv/master/data/haarcascades/haarcascade_frontalface_default.xml\n",
    "        # Download emotion trained data\n",
    "!curl -L -o ./files/emotion_model.hdf5 https://mechasolution.vn/source/blog/AI-tutorial/Emotion_Recognition/emotion_model.hdf5"
   ]
  },
  {
   "cell_type": "code",
   "execution_count": 3,
   "metadata": {},
   "outputs": [],
   "source": [
    "def Video_emotion_record():\n",
    "    from keras.models import load_model\n",
    "    import pandas as pd\n",
    "    import cv2\n",
    "    import numpy as np   \n",
    "    from keras.preprocessing.image import img_to_array\n",
    "    import pyaudio\n",
    "    import wave\n",
    "    \n",
    "    face_detection = cv2.CascadeClassifier('files/haarcascade_frontalface_default.xml')\n",
    "    emotion_classifier = load_model('files/emotion_model.hdf5', compile=False)\n",
    "    EMOTIONS = [\"Angry\" ,\"Disgusting\",\"Fearful\", \"Happy\", \"Sad\", \"Surpring\", \"Neutral\"]\n",
    "    \n",
    "    \n",
    "    CHUNK = 1024\n",
    "    FORMAT = pyaudio.paInt16\n",
    "    CHANNELS = 1\n",
    "    RATE = 44100\n",
    "    WAVE_OUTPUT_FILENAME = \"output.wav\"\n",
    "\n",
    "    p = pyaudio.PyAudio()\n",
    "    stream = p.open(format=FORMAT,\n",
    "                    channels=CHANNELS,\n",
    "                    rate=RATE,\n",
    "                    input=True,\n",
    "                    frames_per_buffer=CHUNK)\n",
    "\n",
    "\n",
    "    camera = cv2.VideoCapture(0)\n",
    "    num=0\n",
    "    emotion_list={}\n",
    "    frames=[]\n",
    "    \n",
    "    while True:\n",
    "        # Capture image from camera\n",
    "        ret, frame = camera.read()\n",
    "\n",
    "        # Convert color to gray scale\n",
    "        gray = cv2.cvtColor(frame, cv2.COLOR_BGR2GRAY)\n",
    "\n",
    "        # Face detection in frame\n",
    "        faces = face_detection.detectMultiScale(gray,\n",
    "                                                scaleFactor=1.1,\n",
    "                                                minNeighbors=5,\n",
    "                                                minSize=(30,30))\n",
    "\n",
    "        # Create empty image\n",
    "        canvas = np.zeros((250, 300, 3), dtype=\"uint8\")\n",
    "\n",
    "        # Perform emotion recognition only when face is detected\n",
    "        if len(faces) > 0:\n",
    "            # For the largest image\n",
    "            face = sorted(faces, reverse=True, key=lambda x: (x[2] - x[0]) * (x[3] - x[1]))[0]\n",
    "            (fX, fY, fW, fH) = face\n",
    "            # Resize the image to 48x48 for neural network\n",
    "            roi = gray[fY:fY + fH, fX:fX + fW]\n",
    "            roi = cv2.resize(roi, (48, 48))\n",
    "            roi = roi.astype(\"float\") / 255.0\n",
    "            roi = img_to_array(roi)\n",
    "            roi = np.expand_dims(roi, axis=0)\n",
    "\n",
    "            # Emotion predict\n",
    "            preds = emotion_classifier.predict(roi)[0]\n",
    "            emotion_probability = np.max(preds)\n",
    "            label = EMOTIONS[preds.argmax()]\n",
    "\n",
    "            # Assign labeling\n",
    "            cv2.putText(frame, label, (fX, fY - 10), cv2.FONT_HERSHEY_SIMPLEX, 0.45, (0, 0, 255), 2)\n",
    "            cv2.rectangle(frame, (fX, fY), (fX + fW, fY + fH), (0, 0, 255), 2)\n",
    "\n",
    "\n",
    "            lis=[]\n",
    "            # Label printing\n",
    "            for (i, (emotion, prob)) in enumerate(zip(EMOTIONS, preds)):\n",
    "                text = \"{}: {:.2f}%\".format(emotion, prob * 100)    \n",
    "                w = int(prob * 300)\n",
    "                cv2.rectangle(canvas, (7, (i * 35) + 5), (w, (i * 35) + 35), (0, 0, 255), -1)\n",
    "                cv2.putText(canvas, text, (10, (i * 35) + 23), cv2.FONT_HERSHEY_SIMPLEX, 0.45, (255, 255, 255), 2)\n",
    "\n",
    "\n",
    "                lis.append(prob)\n",
    "                \n",
    "            for i in range(0, int(RATE / CHUNK)):\n",
    "                data = stream.read(CHUNK)\n",
    "                frames.append(data)\n",
    "            \n",
    "            #emotion 확률 저장 / fram - record_images 파일에 저장\n",
    "            cv2.imwrite(\"record_images/frame%d.jpg\" % num, frame)\n",
    "            emotion_list[num]=lis\n",
    "            num+=1\n",
    "\n",
    "        # Open two windows\n",
    "        ## Display image (\"Emotion Recognition\")\n",
    "        ## Display probabilities of emotion\n",
    "        cv2.imshow('Emotion Recognition', frame)\n",
    "        cv2.imshow(\"Probabilities\", canvas)\n",
    "\n",
    "        # q to quit\n",
    "        if cv2.waitKey(1) & 0xFF == ord('q'):\n",
    "            stream.stop_stream()\n",
    "            stream.close()\n",
    "            p.terminate()\n",
    "            wf = wave.open(WAVE_OUTPUT_FILENAME, 'wb')\n",
    "            wf.setnchannels(CHANNELS)\n",
    "            wf.setsampwidth(p.get_sample_size(FORMAT))\n",
    "            wf.setframerate(RATE)\n",
    "            wf.writeframes(b''.join(frames))\n",
    "            wf.close()\n",
    "            break\n",
    "\n",
    "    # Clear program and close windows\n",
    "    camera.release()\n",
    "    cv2.destroyAllWindows()\n",
    "    \n",
    "    df=pd.DataFrame(emotion_list,index=EMOTIONS)\n",
    "   \n",
    "    return df.mean(axis=1)"
   ]
  },
  {
   "cell_type": "code",
   "execution_count": 4,
   "metadata": {},
   "outputs": [
    {
     "data": {
      "text/plain": [
       "Angry         0.146046\n",
       "Disgusting    0.000312\n",
       "Fearful       0.073809\n",
       "Happy         0.189553\n",
       "Sad           0.192094\n",
       "Surpring      0.017307\n",
       "Neutral       0.380878\n",
       "dtype: float64"
      ]
     },
     "execution_count": 4,
     "metadata": {},
     "output_type": "execute_result"
    }
   ],
   "source": [
    "Video_emotion_record()"
   ]
  }
 ],
 "metadata": {
  "kernelspec": {
   "display_name": "Python 3",
   "language": "python",
   "name": "python3"
  },
  "language_info": {
   "codemirror_mode": {
    "name": "ipython",
    "version": 3
   },
   "file_extension": ".py",
   "mimetype": "text/x-python",
   "name": "python",
   "nbconvert_exporter": "python",
   "pygments_lexer": "ipython3",
   "version": "3.7.3"
  }
 },
 "nbformat": 4,
 "nbformat_minor": 4
}
